{
 "cells": [
  {
   "cell_type": "code",
   "execution_count": 2,
   "metadata": {},
   "outputs": [],
   "source": [
    "import pandas as pd\n",
    "import numpy as np\n",
    "import matplotlib.pyplot as plt"
   ]
  },
  {
   "cell_type": "markdown",
   "metadata": {},
   "source": [
    "#### TASK 1"
   ]
  },
  {
   "cell_type": "code",
   "execution_count": 4,
   "metadata": {},
   "outputs": [],
   "source": [
    "dataframe = pd.read_excel(\"default_of_credit_card_clients.xls\")"
   ]
  },
  {
   "cell_type": "code",
   "execution_count": 5,
   "metadata": {},
   "outputs": [
    {
     "data": {
      "text/html": [
       "<div>\n",
       "<style scoped>\n",
       "    .dataframe tbody tr th:only-of-type {\n",
       "        vertical-align: middle;\n",
       "    }\n",
       "\n",
       "    .dataframe tbody tr th {\n",
       "        vertical-align: top;\n",
       "    }\n",
       "\n",
       "    .dataframe thead th {\n",
       "        text-align: right;\n",
       "    }\n",
       "</style>\n",
       "<table border=\"1\" class=\"dataframe\">\n",
       "  <thead>\n",
       "    <tr style=\"text-align: right;\">\n",
       "      <th></th>\n",
       "      <th>ID</th>\n",
       "      <th>LIMIT_BAL</th>\n",
       "      <th>SEX</th>\n",
       "      <th>EDUCATION</th>\n",
       "      <th>MARRIAGE</th>\n",
       "      <th>AGE</th>\n",
       "      <th>PAY_1</th>\n",
       "      <th>PAY_2</th>\n",
       "      <th>PAY_3</th>\n",
       "      <th>PAY_4</th>\n",
       "      <th>...</th>\n",
       "      <th>BILL_AMT4</th>\n",
       "      <th>BILL_AMT5</th>\n",
       "      <th>BILL_AMT6</th>\n",
       "      <th>PAY_AMT1</th>\n",
       "      <th>PAY_AMT2</th>\n",
       "      <th>PAY_AMT3</th>\n",
       "      <th>PAY_AMT4</th>\n",
       "      <th>PAY_AMT5</th>\n",
       "      <th>PAY_AMT6</th>\n",
       "      <th>default payment next month</th>\n",
       "    </tr>\n",
       "  </thead>\n",
       "  <tbody>\n",
       "    <tr>\n",
       "      <th>0</th>\n",
       "      <td>798fc410-45c1</td>\n",
       "      <td>20000</td>\n",
       "      <td>2</td>\n",
       "      <td>2</td>\n",
       "      <td>1</td>\n",
       "      <td>24</td>\n",
       "      <td>2</td>\n",
       "      <td>2</td>\n",
       "      <td>-1</td>\n",
       "      <td>-1</td>\n",
       "      <td>...</td>\n",
       "      <td>0</td>\n",
       "      <td>0</td>\n",
       "      <td>0</td>\n",
       "      <td>0</td>\n",
       "      <td>689</td>\n",
       "      <td>0</td>\n",
       "      <td>0</td>\n",
       "      <td>0</td>\n",
       "      <td>0</td>\n",
       "      <td>1</td>\n",
       "    </tr>\n",
       "    <tr>\n",
       "      <th>1</th>\n",
       "      <td>8a8c8f3b-8eb4</td>\n",
       "      <td>120000</td>\n",
       "      <td>2</td>\n",
       "      <td>2</td>\n",
       "      <td>2</td>\n",
       "      <td>26</td>\n",
       "      <td>-1</td>\n",
       "      <td>2</td>\n",
       "      <td>0</td>\n",
       "      <td>0</td>\n",
       "      <td>...</td>\n",
       "      <td>3272</td>\n",
       "      <td>3455</td>\n",
       "      <td>3261</td>\n",
       "      <td>0</td>\n",
       "      <td>1000</td>\n",
       "      <td>1000</td>\n",
       "      <td>1000</td>\n",
       "      <td>0</td>\n",
       "      <td>2000</td>\n",
       "      <td>1</td>\n",
       "    </tr>\n",
       "    <tr>\n",
       "      <th>2</th>\n",
       "      <td>85698822-43f5</td>\n",
       "      <td>90000</td>\n",
       "      <td>2</td>\n",
       "      <td>2</td>\n",
       "      <td>2</td>\n",
       "      <td>34</td>\n",
       "      <td>0</td>\n",
       "      <td>0</td>\n",
       "      <td>0</td>\n",
       "      <td>0</td>\n",
       "      <td>...</td>\n",
       "      <td>14331</td>\n",
       "      <td>14948</td>\n",
       "      <td>15549</td>\n",
       "      <td>1518</td>\n",
       "      <td>1500</td>\n",
       "      <td>1000</td>\n",
       "      <td>1000</td>\n",
       "      <td>1000</td>\n",
       "      <td>5000</td>\n",
       "      <td>0</td>\n",
       "    </tr>\n",
       "    <tr>\n",
       "      <th>3</th>\n",
       "      <td>0737c11b-be42</td>\n",
       "      <td>50000</td>\n",
       "      <td>2</td>\n",
       "      <td>2</td>\n",
       "      <td>1</td>\n",
       "      <td>37</td>\n",
       "      <td>0</td>\n",
       "      <td>0</td>\n",
       "      <td>0</td>\n",
       "      <td>0</td>\n",
       "      <td>...</td>\n",
       "      <td>28314</td>\n",
       "      <td>28959</td>\n",
       "      <td>29547</td>\n",
       "      <td>2000</td>\n",
       "      <td>2019</td>\n",
       "      <td>1200</td>\n",
       "      <td>1100</td>\n",
       "      <td>1069</td>\n",
       "      <td>1000</td>\n",
       "      <td>0</td>\n",
       "    </tr>\n",
       "    <tr>\n",
       "      <th>4</th>\n",
       "      <td>3b7f77cc-dbc0</td>\n",
       "      <td>50000</td>\n",
       "      <td>1</td>\n",
       "      <td>2</td>\n",
       "      <td>1</td>\n",
       "      <td>57</td>\n",
       "      <td>-1</td>\n",
       "      <td>0</td>\n",
       "      <td>-1</td>\n",
       "      <td>0</td>\n",
       "      <td>...</td>\n",
       "      <td>20940</td>\n",
       "      <td>19146</td>\n",
       "      <td>19131</td>\n",
       "      <td>2000</td>\n",
       "      <td>36681</td>\n",
       "      <td>10000</td>\n",
       "      <td>9000</td>\n",
       "      <td>689</td>\n",
       "      <td>679</td>\n",
       "      <td>0</td>\n",
       "    </tr>\n",
       "  </tbody>\n",
       "</table>\n",
       "<p>5 rows × 25 columns</p>\n",
       "</div>"
      ],
      "text/plain": [
       "              ID  LIMIT_BAL  SEX  EDUCATION  MARRIAGE  AGE PAY_1  PAY_2  \\\n",
       "0  798fc410-45c1      20000    2          2         1   24     2      2   \n",
       "1  8a8c8f3b-8eb4     120000    2          2         2   26    -1      2   \n",
       "2  85698822-43f5      90000    2          2         2   34     0      0   \n",
       "3  0737c11b-be42      50000    2          2         1   37     0      0   \n",
       "4  3b7f77cc-dbc0      50000    1          2         1   57    -1      0   \n",
       "\n",
       "   PAY_3  PAY_4  ...  BILL_AMT4  BILL_AMT5  BILL_AMT6  PAY_AMT1  PAY_AMT2  \\\n",
       "0     -1     -1  ...          0          0          0         0       689   \n",
       "1      0      0  ...       3272       3455       3261         0      1000   \n",
       "2      0      0  ...      14331      14948      15549      1518      1500   \n",
       "3      0      0  ...      28314      28959      29547      2000      2019   \n",
       "4     -1      0  ...      20940      19146      19131      2000     36681   \n",
       "\n",
       "   PAY_AMT3  PAY_AMT4  PAY_AMT5  PAY_AMT6  default payment next month  \n",
       "0         0         0         0         0                           1  \n",
       "1      1000      1000         0      2000                           1  \n",
       "2      1000      1000      1000      5000                           0  \n",
       "3      1200      1100      1069      1000                           0  \n",
       "4     10000      9000       689       679                           0  \n",
       "\n",
       "[5 rows x 25 columns]"
      ]
     },
     "execution_count": 5,
     "metadata": {},
     "output_type": "execute_result"
    }
   ],
   "source": [
    "dataframe.head()"
   ]
  },
  {
   "cell_type": "code",
   "execution_count": 6,
   "metadata": {},
   "outputs": [
    {
     "data": {
      "text/plain": [
       "Index(['ID', 'LIMIT_BAL', 'SEX', 'EDUCATION', 'MARRIAGE', 'AGE', 'PAY_1',\n",
       "       'PAY_2', 'PAY_3', 'PAY_4', 'PAY_5', 'PAY_6', 'BILL_AMT1', 'BILL_AMT2',\n",
       "       'BILL_AMT3', 'BILL_AMT4', 'BILL_AMT5', 'BILL_AMT6', 'PAY_AMT1',\n",
       "       'PAY_AMT2', 'PAY_AMT3', 'PAY_AMT4', 'PAY_AMT5', 'PAY_AMT6',\n",
       "       'default payment next month'],\n",
       "      dtype='object')"
      ]
     },
     "execution_count": 6,
     "metadata": {},
     "output_type": "execute_result"
    }
   ],
   "source": [
    "dataframe.columns"
   ]
  },
  {
   "cell_type": "code",
   "execution_count": 8,
   "metadata": {},
   "outputs": [
    {
     "data": {
      "text/plain": [
       "(30000, 25)"
      ]
     },
     "execution_count": 8,
     "metadata": {},
     "output_type": "execute_result"
    }
   ],
   "source": [
    "dataframe.shape"
   ]
  },
  {
   "cell_type": "code",
   "execution_count": 7,
   "metadata": {},
   "outputs": [
    {
     "data": {
      "text/plain": [
       "29687"
      ]
     },
     "execution_count": 7,
     "metadata": {},
     "output_type": "execute_result"
    }
   ],
   "source": [
    "dataframe['ID'].nunique()"
   ]
  },
  {
   "cell_type": "code",
   "execution_count": 9,
   "metadata": {},
   "outputs": [
    {
     "data": {
      "text/plain": [
       "313"
      ]
     },
     "execution_count": 9,
     "metadata": {},
     "output_type": "execute_result"
    }
   ],
   "source": [
    "dataframe.shape[0]-dataframe['ID'].nunique()"
   ]
  },
  {
   "cell_type": "code",
   "execution_count": 11,
   "metadata": {},
   "outputs": [
    {
     "data": {
      "text/plain": [
       "f0bb9e5a-eb11    2\n",
       "f7fe4368-18e7    2\n",
       "20b16b21-8b23    2\n",
       "9878723a-0b58    2\n",
       "428b26a3-dca2    2\n",
       "Name: ID, dtype: int64"
      ]
     },
     "execution_count": 11,
     "metadata": {},
     "output_type": "execute_result"
    }
   ],
   "source": [
    "counts = dataframe['ID'].value_counts()\n",
    "counts.head()"
   ]
  },
  {
   "cell_type": "code",
   "execution_count": 13,
   "metadata": {},
   "outputs": [
    {
     "data": {
      "text/plain": [
       "1    29374\n",
       "2      313\n",
       "Name: ID, dtype: int64"
      ]
     },
     "execution_count": 13,
     "metadata": {},
     "output_type": "execute_result"
    }
   ],
   "source": [
    "counts.value_counts()"
   ]
  },
  {
   "cell_type": "code",
   "execution_count": 14,
   "metadata": {},
   "outputs": [],
   "source": [
    "np.random.seed(seed=24)"
   ]
  },
  {
   "cell_type": "code",
   "execution_count": 17,
   "metadata": {},
   "outputs": [
    {
     "data": {
      "text/plain": [
       "f0bb9e5a-eb11    True\n",
       "f7fe4368-18e7    True\n",
       "20b16b21-8b23    True\n",
       "9878723a-0b58    True\n",
       "428b26a3-dca2    True\n",
       "f11c5e51-a535    True\n",
       "0a2d6db4-0c54    True\n",
       "ff8b7170-ce3a    True\n",
       "2618fdc4-e731    True\n",
       "2a8ad33f-fa9c    True\n",
       "Name: ID, dtype: bool"
      ]
     },
     "execution_count": 17,
     "metadata": {},
     "output_type": "execute_result"
    }
   ],
   "source": [
    "dupe_mask = counts == 2\n",
    "dupe_mask[0:10]"
   ]
  },
  {
   "cell_type": "code",
   "execution_count": 18,
   "metadata": {},
   "outputs": [
    {
     "data": {
      "text/plain": [
       "Index(['f0bb9e5a-eb11', 'f7fe4368-18e7', '20b16b21-8b23', '9878723a-0b58',\n",
       "       '428b26a3-dca2', 'f11c5e51-a535', '0a2d6db4-0c54', 'ff8b7170-ce3a',\n",
       "       '2618fdc4-e731', '2a8ad33f-fa9c'],\n",
       "      dtype='object')"
      ]
     },
     "execution_count": 18,
     "metadata": {},
     "output_type": "execute_result"
    }
   ],
   "source": [
    "counts.index[0:10]"
   ]
  },
  {
   "cell_type": "code",
   "execution_count": 19,
   "metadata": {},
   "outputs": [],
   "source": [
    "dupe_ids = counts.index[dupe_mask]"
   ]
  },
  {
   "cell_type": "code",
   "execution_count": 20,
   "metadata": {},
   "outputs": [
    {
     "data": {
      "text/plain": [
       "Index(['f0bb9e5a-eb11', 'f7fe4368-18e7', '20b16b21-8b23', '9878723a-0b58',\n",
       "       '428b26a3-dca2', 'f11c5e51-a535', '0a2d6db4-0c54', 'ff8b7170-ce3a',\n",
       "       '2618fdc4-e731', '2a8ad33f-fa9c',\n",
       "       ...\n",
       "       'f6032812-464e', 'ca3910f2-92ca', '2f4f4bc9-fd55', '02e41927-a6df',\n",
       "       '37a1d9c2-701c', 'a3e05a29-d6df', 'f12b9d9e-ada0', '0913d642-c5d4',\n",
       "       '9e74795e-cb34', '9389d6e1-e1a7'],\n",
       "      dtype='object', length=313)"
      ]
     },
     "execution_count": 20,
     "metadata": {},
     "output_type": "execute_result"
    }
   ],
   "source": [
    "dupe_ids"
   ]
  },
  {
   "cell_type": "code",
   "execution_count": 21,
   "metadata": {},
   "outputs": [
    {
     "data": {
      "text/plain": [
       "313"
      ]
     },
     "execution_count": 21,
     "metadata": {},
     "output_type": "execute_result"
    }
   ],
   "source": [
    "dupe_ids = list(dupe_ids)\n",
    "len(dupe_ids)"
   ]
  },
  {
   "cell_type": "code",
   "execution_count": 22,
   "metadata": {},
   "outputs": [
    {
     "data": {
      "text/plain": [
       "['f0bb9e5a-eb11',\n",
       " 'f7fe4368-18e7',\n",
       " '20b16b21-8b23',\n",
       " '9878723a-0b58',\n",
       " '428b26a3-dca2',\n",
       " 'f11c5e51-a535',\n",
       " '0a2d6db4-0c54',\n",
       " 'ff8b7170-ce3a',\n",
       " '2618fdc4-e731',\n",
       " '2a8ad33f-fa9c',\n",
       " 'c89b26ff-ec7f',\n",
       " 'a9ce8636-9a88',\n",
       " '8d3a2576-a958',\n",
       " '69566a6b-6156',\n",
       " '87dec940-75b7',\n",
       " 'e7cd8c1a-88e9',\n",
       " 'b557f3c2-ebec',\n",
       " 'ef889a72-06f5',\n",
       " '59387843-6db1',\n",
       " 'fa286931-8ded',\n",
       " 'bf23c70b-bf12',\n",
       " '7dbc4ebf-4b4f',\n",
       " '315e4f9d-2b0b',\n",
       " '68ff6fcd-1d49',\n",
       " '7e7a4087-4def',\n",
       " 'cfa9d026-de0d',\n",
       " '73baf2c4-6e90',\n",
       " '2ba2d987-103e',\n",
       " '90f662f9-c1e3',\n",
       " '94d59251-fa7f',\n",
       " 'c84dd06b-71f5',\n",
       " '590a776e-5049',\n",
       " '379e0b03-4ca0',\n",
       " '2458b96d-e8f1',\n",
       " 'db903e22-a55a',\n",
       " '0ad143f2-bd95',\n",
       " 'b87bf8f3-d704',\n",
       " '25a28c93-508a',\n",
       " 'ddcc7278-7017',\n",
       " '72598524-ef0b',\n",
       " '4e2380e6-a8cf',\n",
       " '71b5009c-75c8',\n",
       " 'd1808f44-48ce',\n",
       " '424e8a3c-0377',\n",
       " '71b26a8d-da70',\n",
       " '3fddeb07-b7f0',\n",
       " 'ff619017-560f',\n",
       " '0170086d-7472',\n",
       " '183f18d5-0b44',\n",
       " '26d4a6eb-8abe',\n",
       " 'f86688f1-8742',\n",
       " '7574bf9e-f3f9',\n",
       " '0a8272b2-78aa',\n",
       " '91321f74-e4a4',\n",
       " '3d61e71b-f65e',\n",
       " 'b1c90397-5fb2',\n",
       " '0724677e-ec01',\n",
       " '89f8f447-fca8',\n",
       " 'b6ca3733-7459',\n",
       " 'd50ebd87-8b6d',\n",
       " 'c3ae3600-3837',\n",
       " '060c8137-6a4e',\n",
       " 'a9870d3e-b4d1',\n",
       " '62608fd2-d7fb',\n",
       " 'a53a8d32-2c61',\n",
       " 'f37328b4-7b3a',\n",
       " 'd13465a5-a9e0',\n",
       " 'af052d9b-f06b',\n",
       " '62b1d551-2414',\n",
       " 'af9f7f07-e228',\n",
       " '82da3aa5-97a6',\n",
       " '415c344e-309f',\n",
       " '527c11ea-113e',\n",
       " 'effb69b1-d4d8',\n",
       " '297edb0f-3bb1',\n",
       " '266c34a2-16c9',\n",
       " '42009c72-651f',\n",
       " '841ae407-dc4c',\n",
       " 'b3c9d09b-ed59',\n",
       " 'f9bcd13e-96bc',\n",
       " 'ea8d41fd-b8a3',\n",
       " '94d8b70f-361d',\n",
       " '5f38afd8-e138',\n",
       " 'f0b963e7-4933',\n",
       " 'accba688-8ec1',\n",
       " '85bd7f39-2e9b',\n",
       " '1a055566-c187',\n",
       " '1bf3b4eb-d759',\n",
       " '28866128-6286',\n",
       " 'f0723a52-7018',\n",
       " 'e8037410-5cd0',\n",
       " '5718f600-12ac',\n",
       " '3d832783-1571',\n",
       " '693a0664-bde6',\n",
       " 'f41bbcf7-5f86',\n",
       " '73ea498f-44b2',\n",
       " '61ae560c-4479',\n",
       " '63338f74-01be',\n",
       " '16ee3668-0b5b',\n",
       " '94c4ece8-bba6',\n",
       " 'df3d13be-9c13',\n",
       " '659da309-053c',\n",
       " '4fcef74d-0b3d',\n",
       " 'e8ee55be-0a11',\n",
       " '5ce60722-dbd1',\n",
       " '3511ed92-c434',\n",
       " '4a051fdc-d04c',\n",
       " '9611f432-7f70',\n",
       " 'a51dbaae-d88b',\n",
       " '1fb3e3e6-a68d',\n",
       " '64fe3b96-7ed0',\n",
       " '5f483bdb-3aaf',\n",
       " 'd9dafe9c-b497',\n",
       " '86477d4e-795e',\n",
       " '0a2dceda-b597',\n",
       " '75bdf204-83c2',\n",
       " '6ff744d5-91f0',\n",
       " 'fc73f07e-eb96',\n",
       " '168dcd08-0ed9',\n",
       " 'c69162db-4864',\n",
       " '443324fb-5cfc',\n",
       " '40e75290-0f59',\n",
       " '5f463f95-a4ae',\n",
       " '47d9ee33-0df0',\n",
       " 'c9826d63-f7d3',\n",
       " '6c0797cd-f663',\n",
       " 'dda76366-a407',\n",
       " 'd5aeb496-64e5',\n",
       " '0a5048ae-e120',\n",
       " '6870544f-459e',\n",
       " 'a3a5c0fc-fdd6',\n",
       " 'e07a0034-42af',\n",
       " 'b74033dc-6e45',\n",
       " 'f9d25524-9d69',\n",
       " 'ad63957b-ea9a',\n",
       " '1d58344c-5793',\n",
       " 'ac821a7b-b399',\n",
       " '77222291-e191',\n",
       " '4653bc48-0141',\n",
       " '54ada30b-750f',\n",
       " '33b2b726-61a8',\n",
       " 'd6697da8-74fc',\n",
       " '2a793ecf-05c6',\n",
       " '1b22b0ab-aba3',\n",
       " '56945919-0933',\n",
       " '4cf8397f-6359',\n",
       " '15edb406-305b',\n",
       " '7b6e060a-97a0',\n",
       " '33bf169b-258a',\n",
       " 'b46f955f-9e8a',\n",
       " '98b8a2ca-8988',\n",
       " '327d06d5-ce7f',\n",
       " '1512a948-a7e4',\n",
       " '1c7af562-f271',\n",
       " '165206d2-50a5',\n",
       " 'e77f7765-8731',\n",
       " 'bbffebbc-e3c4',\n",
       " '90330d02-82d9',\n",
       " '9929aa3b-d8f6',\n",
       " '75938fec-e5ec',\n",
       " '129c43ca-42ee',\n",
       " 'ffb9a143-c375',\n",
       " 'e3035b40-0c02',\n",
       " '555a25cd-2d05',\n",
       " '0d66d575-c461',\n",
       " 'cd944abe-cef9',\n",
       " '3884eeca-7714',\n",
       " 'dbf9fb14-2656',\n",
       " '382b378c-6383',\n",
       " 'bdb3b33c-83a9',\n",
       " '369e565a-26a1',\n",
       " '2189fc56-f82a',\n",
       " '999b7824-373c',\n",
       " 'b4937915-ad67',\n",
       " 'a17f0f1f-d9f6',\n",
       " '52bcd5ae-72d3',\n",
       " '91084359-8bd4',\n",
       " '9c53fb07-9b73',\n",
       " 'adeed333-dbfd',\n",
       " '97d1d2eb-c72f',\n",
       " '26bde6da-f148',\n",
       " '27e04c06-487f',\n",
       " '7b7cc3cd-0b76',\n",
       " 'ad819541-5d3c',\n",
       " '3367c92b-b1ca',\n",
       " '01355f46-3f0b',\n",
       " '83d174e1-5f9a',\n",
       " '4dc45e9a-27bd',\n",
       " '45cceda0-6fb7',\n",
       " '8a6bbf3d-8a2d',\n",
       " '84dc097a-dee3',\n",
       " '63b20368-1a04',\n",
       " '355fe35a-5db7',\n",
       " '30729bb5-55d7',\n",
       " '3327c2a8-3402',\n",
       " '7c9b7473-cc2f',\n",
       " 'ab09b4b4-8331',\n",
       " 'b44b81b2-7789',\n",
       " '8d1b6de3-9795',\n",
       " '733aa344-0dae',\n",
       " 'ad23fe5c-7b09',\n",
       " 'cdae2be5-8ec4',\n",
       " '7d5f3242-e1df',\n",
       " '062f1fe4-9a66',\n",
       " '9db1809e-845a',\n",
       " '06f377a6-ba7e',\n",
       " '94e1b326-8c22',\n",
       " '8567249b-827e',\n",
       " 'f5e3478e-cf68',\n",
       " '9d3d2a55-dab6',\n",
       " '956cbf4a-d24e',\n",
       " '3393c9e4-3345',\n",
       " '89d3cebd-346f',\n",
       " 'b9591d1a-8480',\n",
       " '56126c14-b5b8',\n",
       " '04c32736-903c',\n",
       " 'e8bcb1bb-456e',\n",
       " '3fd4854f-8752',\n",
       " 'e50d8395-da32',\n",
       " '0ab4e6e8-69e5',\n",
       " 'e39d23fe-aa5f',\n",
       " '5edb4d2b-067c',\n",
       " '16d73782-d5e6',\n",
       " '5deff6b6-62ff',\n",
       " '9a75e346-c849',\n",
       " 'a9d910f4-fe9a',\n",
       " '3e60a98c-e520',\n",
       " '9e6e766d-ba75',\n",
       " 'dd019fd7-f591',\n",
       " '249b09c0-f4c7',\n",
       " 'fd6033f4-cc72',\n",
       " 'c5368117-b498',\n",
       " 'e4936e97-da48',\n",
       " '8f4a90bc-bbb0',\n",
       " 'c5a658d0-92da',\n",
       " '4ae0efd7-2651',\n",
       " 'c3ddce11-35e2',\n",
       " '5795a795-bfa0',\n",
       " 'f20d8a3d-d047',\n",
       " '96970f37-abaa',\n",
       " '214fc1ca-b25a',\n",
       " '05009844-7be8',\n",
       " '0d624cb8-e5f8',\n",
       " '823267c1-561b',\n",
       " 'af1e3f79-f628',\n",
       " 'dab579ee-1645',\n",
       " 'a7e199e1-2c44',\n",
       " '31d0095f-75bc',\n",
       " '5f79f818-18af',\n",
       " '98395d08-9643',\n",
       " 'e850d228-6879',\n",
       " '8b62a9c9-7b64',\n",
       " '775d61d0-4715',\n",
       " '51e5ff58-5a0f',\n",
       " '37499e8b-ac16',\n",
       " '08425e64-bf76',\n",
       " '20050b52-5d6e',\n",
       " '994330b6-eeec',\n",
       " '9ac5d94f-ed71',\n",
       " 'f63d8fbe-d79e',\n",
       " '93b2c5f7-acea',\n",
       " 'e668604e-21f6',\n",
       " '3cd5c728-df14',\n",
       " 'db91a87c-3cbe',\n",
       " 'd5905747-8aef',\n",
       " 'ae6a7eed-bb58',\n",
       " '7be61027-a493',\n",
       " '73ed1381-3a3f',\n",
       " '6353fd55-d66e',\n",
       " 'f31d1048-5fa9',\n",
       " '91c69d1a-8732',\n",
       " '04299d54-61d4',\n",
       " 'cb18af1f-3b53',\n",
       " 'c361e43d-f1f4',\n",
       " 'feac3745-a2be',\n",
       " 'd2a47fa6-0f6a',\n",
       " 'bbf202ae-a964',\n",
       " 'edd737fd-5b07',\n",
       " '634d5510-7240',\n",
       " 'ffa0f012-3bd7',\n",
       " '2a8713e6-0f03',\n",
       " 'ebda7f71-7024',\n",
       " 'a7559852-f405',\n",
       " '4cb27699-fe3f',\n",
       " '998fa9b2-b341',\n",
       " '5b8dce34-2ded',\n",
       " '0a37c2c7-6065',\n",
       " '3cfed539-ad58',\n",
       " '80282ca6-96a6',\n",
       " '4534975d-bf92',\n",
       " '4f249cbc-5e9c',\n",
       " '8f9549b7-d5a4',\n",
       " '7fe414ae-32f8',\n",
       " '742d1d93-0d3b',\n",
       " 'e7f574b9-0581',\n",
       " 'ff6e1bd3-4e91',\n",
       " '4f95b36b-ab10',\n",
       " 'bae9475e-7cad',\n",
       " '310d5326-56c7',\n",
       " '6d1fc219-67b0',\n",
       " '97f74dea-338e',\n",
       " 'c8bb762f-3ef9',\n",
       " 'f56a0841-4328',\n",
       " 'f6032812-464e',\n",
       " 'ca3910f2-92ca',\n",
       " '2f4f4bc9-fd55',\n",
       " '02e41927-a6df',\n",
       " '37a1d9c2-701c',\n",
       " 'a3e05a29-d6df',\n",
       " 'f12b9d9e-ada0',\n",
       " '0913d642-c5d4',\n",
       " '9e74795e-cb34',\n",
       " '9389d6e1-e1a7']"
      ]
     },
     "execution_count": 22,
     "metadata": {},
     "output_type": "execute_result"
    }
   ],
   "source": [
    "dupe_ids"
   ]
  },
  {
   "cell_type": "code",
   "execution_count": 26,
   "metadata": {},
   "outputs": [
    {
     "data": {
      "text/html": [
       "<div>\n",
       "<style scoped>\n",
       "    .dataframe tbody tr th:only-of-type {\n",
       "        vertical-align: middle;\n",
       "    }\n",
       "\n",
       "    .dataframe tbody tr th {\n",
       "        vertical-align: top;\n",
       "    }\n",
       "\n",
       "    .dataframe thead th {\n",
       "        text-align: right;\n",
       "    }\n",
       "</style>\n",
       "<table border=\"1\" class=\"dataframe\">\n",
       "  <thead>\n",
       "    <tr style=\"text-align: right;\">\n",
       "      <th></th>\n",
       "      <th>ID</th>\n",
       "      <th>LIMIT_BAL</th>\n",
       "      <th>SEX</th>\n",
       "      <th>EDUCATION</th>\n",
       "      <th>MARRIAGE</th>\n",
       "      <th>AGE</th>\n",
       "      <th>PAY_1</th>\n",
       "      <th>PAY_2</th>\n",
       "      <th>PAY_3</th>\n",
       "      <th>PAY_4</th>\n",
       "      <th>...</th>\n",
       "      <th>BILL_AMT4</th>\n",
       "      <th>BILL_AMT5</th>\n",
       "      <th>BILL_AMT6</th>\n",
       "      <th>PAY_AMT1</th>\n",
       "      <th>PAY_AMT2</th>\n",
       "      <th>PAY_AMT3</th>\n",
       "      <th>PAY_AMT4</th>\n",
       "      <th>PAY_AMT5</th>\n",
       "      <th>PAY_AMT6</th>\n",
       "      <th>default payment next month</th>\n",
       "    </tr>\n",
       "  </thead>\n",
       "  <tbody>\n",
       "    <tr>\n",
       "      <th>7320</th>\n",
       "      <td>f7fe4368-18e7</td>\n",
       "      <td>240000</td>\n",
       "      <td>2</td>\n",
       "      <td>2</td>\n",
       "      <td>2</td>\n",
       "      <td>42</td>\n",
       "      <td>-1</td>\n",
       "      <td>-1</td>\n",
       "      <td>-1</td>\n",
       "      <td>-1</td>\n",
       "      <td>...</td>\n",
       "      <td>4772</td>\n",
       "      <td>1294</td>\n",
       "      <td>2147</td>\n",
       "      <td>164820</td>\n",
       "      <td>11728</td>\n",
       "      <td>7738</td>\n",
       "      <td>1297</td>\n",
       "      <td>2153</td>\n",
       "      <td>2073</td>\n",
       "      <td>0</td>\n",
       "    </tr>\n",
       "    <tr>\n",
       "      <th>7420</th>\n",
       "      <td>f7fe4368-18e7</td>\n",
       "      <td>0</td>\n",
       "      <td>0</td>\n",
       "      <td>0</td>\n",
       "      <td>0</td>\n",
       "      <td>0</td>\n",
       "      <td>0</td>\n",
       "      <td>0</td>\n",
       "      <td>0</td>\n",
       "      <td>0</td>\n",
       "      <td>...</td>\n",
       "      <td>0</td>\n",
       "      <td>0</td>\n",
       "      <td>0</td>\n",
       "      <td>0</td>\n",
       "      <td>0</td>\n",
       "      <td>0</td>\n",
       "      <td>0</td>\n",
       "      <td>0</td>\n",
       "      <td>0</td>\n",
       "      <td>0</td>\n",
       "    </tr>\n",
       "    <tr>\n",
       "      <th>13186</th>\n",
       "      <td>20b16b21-8b23</td>\n",
       "      <td>750000</td>\n",
       "      <td>2</td>\n",
       "      <td>1</td>\n",
       "      <td>2</td>\n",
       "      <td>28</td>\n",
       "      <td>1</td>\n",
       "      <td>-1</td>\n",
       "      <td>-1</td>\n",
       "      <td>0</td>\n",
       "      <td>...</td>\n",
       "      <td>399493</td>\n",
       "      <td>400993</td>\n",
       "      <td>409483</td>\n",
       "      <td>250000</td>\n",
       "      <td>401003</td>\n",
       "      <td>7990</td>\n",
       "      <td>11000</td>\n",
       "      <td>417990</td>\n",
       "      <td>3080</td>\n",
       "      <td>0</td>\n",
       "    </tr>\n",
       "    <tr>\n",
       "      <th>13286</th>\n",
       "      <td>20b16b21-8b23</td>\n",
       "      <td>0</td>\n",
       "      <td>0</td>\n",
       "      <td>0</td>\n",
       "      <td>0</td>\n",
       "      <td>0</td>\n",
       "      <td>0</td>\n",
       "      <td>0</td>\n",
       "      <td>0</td>\n",
       "      <td>0</td>\n",
       "      <td>...</td>\n",
       "      <td>0</td>\n",
       "      <td>0</td>\n",
       "      <td>0</td>\n",
       "      <td>0</td>\n",
       "      <td>0</td>\n",
       "      <td>0</td>\n",
       "      <td>0</td>\n",
       "      <td>0</td>\n",
       "      <td>0</td>\n",
       "      <td>0</td>\n",
       "    </tr>\n",
       "    <tr>\n",
       "      <th>19530</th>\n",
       "      <td>f0bb9e5a-eb11</td>\n",
       "      <td>100000</td>\n",
       "      <td>2</td>\n",
       "      <td>2</td>\n",
       "      <td>2</td>\n",
       "      <td>34</td>\n",
       "      <td>-1</td>\n",
       "      <td>-1</td>\n",
       "      <td>-1</td>\n",
       "      <td>-1</td>\n",
       "      <td>...</td>\n",
       "      <td>1028</td>\n",
       "      <td>0</td>\n",
       "      <td>0</td>\n",
       "      <td>1831</td>\n",
       "      <td>163</td>\n",
       "      <td>1028</td>\n",
       "      <td>0</td>\n",
       "      <td>0</td>\n",
       "      <td>0</td>\n",
       "      <td>0</td>\n",
       "    </tr>\n",
       "    <tr>\n",
       "      <th>19630</th>\n",
       "      <td>f0bb9e5a-eb11</td>\n",
       "      <td>0</td>\n",
       "      <td>0</td>\n",
       "      <td>0</td>\n",
       "      <td>0</td>\n",
       "      <td>0</td>\n",
       "      <td>0</td>\n",
       "      <td>0</td>\n",
       "      <td>0</td>\n",
       "      <td>0</td>\n",
       "      <td>...</td>\n",
       "      <td>0</td>\n",
       "      <td>0</td>\n",
       "      <td>0</td>\n",
       "      <td>0</td>\n",
       "      <td>0</td>\n",
       "      <td>0</td>\n",
       "      <td>0</td>\n",
       "      <td>0</td>\n",
       "      <td>0</td>\n",
       "      <td>0</td>\n",
       "    </tr>\n",
       "  </tbody>\n",
       "</table>\n",
       "<p>6 rows × 25 columns</p>\n",
       "</div>"
      ],
      "text/plain": [
       "                  ID  LIMIT_BAL  SEX  EDUCATION  MARRIAGE  AGE PAY_1  PAY_2  \\\n",
       "7320   f7fe4368-18e7     240000    2          2         2   42    -1     -1   \n",
       "7420   f7fe4368-18e7          0    0          0         0    0     0      0   \n",
       "13186  20b16b21-8b23     750000    2          1         2   28     1     -1   \n",
       "13286  20b16b21-8b23          0    0          0         0    0     0      0   \n",
       "19530  f0bb9e5a-eb11     100000    2          2         2   34    -1     -1   \n",
       "19630  f0bb9e5a-eb11          0    0          0         0    0     0      0   \n",
       "\n",
       "       PAY_3  PAY_4  ...  BILL_AMT4  BILL_AMT5  BILL_AMT6  PAY_AMT1  PAY_AMT2  \\\n",
       "7320      -1     -1  ...       4772       1294       2147    164820     11728   \n",
       "7420       0      0  ...          0          0          0         0         0   \n",
       "13186     -1      0  ...     399493     400993     409483    250000    401003   \n",
       "13286      0      0  ...          0          0          0         0         0   \n",
       "19530     -1     -1  ...       1028          0          0      1831       163   \n",
       "19630      0      0  ...          0          0          0         0         0   \n",
       "\n",
       "       PAY_AMT3  PAY_AMT4  PAY_AMT5  PAY_AMT6  default payment next month  \n",
       "7320       7738      1297      2153      2073                           0  \n",
       "7420          0         0         0         0                           0  \n",
       "13186      7990     11000    417990      3080                           0  \n",
       "13286         0         0         0         0                           0  \n",
       "19530      1028         0         0         0                           0  \n",
       "19630         0         0         0         0                           0  \n",
       "\n",
       "[6 rows x 25 columns]"
      ]
     },
     "execution_count": 26,
     "metadata": {},
     "output_type": "execute_result"
    }
   ],
   "source": [
    "dataframe.loc[dataframe['ID'].isin(dupe_ids[0:3]),:].head(10) "
   ]
  },
  {
   "cell_type": "code",
   "execution_count": 27,
   "metadata": {},
   "outputs": [],
   "source": [
    "df_zero_mask = dataframe == 0"
   ]
  },
  {
   "cell_type": "code",
   "execution_count": 28,
   "metadata": {},
   "outputs": [],
   "source": [
    "feature_zero_mask = df_zero_mask.iloc[:,1:].all(axis=1)"
   ]
  },
  {
   "cell_type": "code",
   "execution_count": 29,
   "metadata": {},
   "outputs": [
    {
     "data": {
      "text/plain": [
       "315"
      ]
     },
     "execution_count": 29,
     "metadata": {},
     "output_type": "execute_result"
    }
   ],
   "source": [
    "sum(feature_zero_mask)"
   ]
  },
  {
   "cell_type": "code",
   "execution_count": 31,
   "metadata": {},
   "outputs": [],
   "source": [
    "df_clean_1 = dataframe.loc[~feature_zero_mask,:].copy()"
   ]
  },
  {
   "cell_type": "code",
   "execution_count": 32,
   "metadata": {},
   "outputs": [
    {
     "data": {
      "text/plain": [
       "(29685, 25)"
      ]
     },
     "execution_count": 32,
     "metadata": {},
     "output_type": "execute_result"
    }
   ],
   "source": [
    "df_clean_1.shape"
   ]
  },
  {
   "cell_type": "code",
   "execution_count": 33,
   "metadata": {},
   "outputs": [
    {
     "data": {
      "text/plain": [
       "29685"
      ]
     },
     "execution_count": 33,
     "metadata": {},
     "output_type": "execute_result"
    }
   ],
   "source": [
    "df_clean_1['ID'].nunique()"
   ]
  },
  {
   "cell_type": "code",
   "execution_count": null,
   "metadata": {},
   "outputs": [],
   "source": []
  }
 ],
 "metadata": {
  "kernelspec": {
   "display_name": "Python 3",
   "language": "python",
   "name": "python3"
  },
  "language_info": {
   "codemirror_mode": {
    "name": "ipython",
    "version": 3
   },
   "file_extension": ".py",
   "mimetype": "text/x-python",
   "name": "python",
   "nbconvert_exporter": "python",
   "pygments_lexer": "ipython3",
   "version": "3.7.3"
  }
 },
 "nbformat": 4,
 "nbformat_minor": 4
}
